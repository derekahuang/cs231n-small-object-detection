{
 "cells": [
  {
   "cell_type": "code",
   "execution_count": 6,
   "metadata": {},
   "outputs": [],
   "source": [
    "import numpy as np\n",
    "import torch\n",
    "\n",
    "def generate_anchors(\n",
    "    stride=16, sizes=(32, 64, 128, 256, 512), aspect_ratios=(0.5, 1, 2)\n",
    "):\n",
    "    \"\"\"Generates a matrix of anchor boxes in (x1, y1, x2, y2) format. Anchors\n",
    "    are centered on stride / 2, have (approximate) sqrt areas of the specified\n",
    "    sizes, and aspect ratios as given.\n",
    "    \"\"\"\n",
    "    return _generate_anchors(\n",
    "        stride,\n",
    "        np.array(sizes, dtype=np.float) / stride,\n",
    "        np.array(aspect_ratios, dtype=np.float),\n",
    "    )\n",
    "\n",
    "\n",
    "def _generate_anchors(base_size, scales, aspect_ratios):\n",
    "    \"\"\"Generate anchor (reference) windows by enumerating aspect ratios X\n",
    "    scales wrt a reference (0, 0, base_size - 1, base_size - 1) window.\n",
    "    \"\"\"\n",
    "    anchor = np.array([1, 1, base_size, base_size], dtype=np.float) - 1\n",
    "    anchors = _ratio_enum(anchor, aspect_ratios)\n",
    "    anchors = np.vstack(\n",
    "        [_scale_enum(anchors[i, :], scales) for i in range(anchors.shape[0])]\n",
    "    )\n",
    "    return torch.from_numpy(anchors)\n",
    "\n",
    "\n",
    "def _whctrs(anchor):\n",
    "    \"\"\"Return width, height, x center, and y center for an anchor (window).\"\"\"\n",
    "    w = anchor[2] - anchor[0] + 1\n",
    "    h = anchor[3] - anchor[1] + 1\n",
    "    x_ctr = anchor[0] + 0.5 * (w - 1)\n",
    "    y_ctr = anchor[1] + 0.5 * (h - 1)\n",
    "    return w, h, x_ctr, y_ctr\n",
    "\n",
    "\n",
    "def _mkanchors(ws, hs, x_ctr, y_ctr):\n",
    "    \"\"\"Given a vector of widths (ws) and heights (hs) around a center\n",
    "    (x_ctr, y_ctr), output a set of anchors (windows).\n",
    "    \"\"\"\n",
    "    ws = ws[:, np.newaxis]\n",
    "    hs = hs[:, np.newaxis]\n",
    "    anchors = np.hstack(\n",
    "        (\n",
    "            x_ctr - 0.5 * (ws - 1),\n",
    "            y_ctr - 0.5 * (hs - 1),\n",
    "            x_ctr + 0.5 * (ws - 1),\n",
    "            y_ctr + 0.5 * (hs - 1),\n",
    "        )\n",
    "    )\n",
    "    return anchors\n",
    "\n",
    "\n",
    "def _ratio_enum(anchor, ratios):\n",
    "    \"\"\"Enumerate a set of anchors for each aspect ratio wrt an anchor.\"\"\"\n",
    "    w, h, x_ctr, y_ctr = _whctrs(anchor)\n",
    "    size = w * h\n",
    "    size_ratios = size / ratios\n",
    "    ws = np.round(np.sqrt(size_ratios))\n",
    "    hs = np.round(ws * ratios)\n",
    "    anchors = _mkanchors(ws, hs, x_ctr, y_ctr)\n",
    "    return anchors\n",
    "\n",
    "\n",
    "def _scale_enum(anchor, scales):\n",
    "    \"\"\"Enumerate a set of anchors for each scale wrt an anchor.\"\"\"\n",
    "    w, h, x_ctr, y_ctr = _whctrs(anchor)\n",
    "    ws = w * scales\n",
    "    hs = h * scales\n",
    "    anchors = _mkanchors(ws, hs, x_ctr, y_ctr)\n",
    "    return anchors\n"
   ]
  },
  {
   "cell_type": "code",
   "execution_count": 10,
   "metadata": {},
   "outputs": [
    {
     "data": {
      "text/plain": [
       "tensor([[-1.0000,  0.5000,  4.0000,  2.5000],\n",
       "        [-4.0000, -1.0000,  7.0000,  4.0000],\n",
       "        [ 0.0000,  0.0000,  3.0000,  3.0000],\n",
       "        [-2.0000, -2.0000,  5.0000,  5.0000],\n",
       "        [ 0.5000, -1.0000,  2.5000,  4.0000],\n",
       "        [-1.0000, -4.0000,  4.0000,  7.0000]], dtype=torch.float64)"
      ]
     },
     "execution_count": 10,
     "metadata": {},
     "output_type": "execute_result"
    }
   ],
   "source": [
    "generate_anchors(4, (4,8), (0.5, 1.0, 2.0))"
   ]
  }
 ],
 "metadata": {
  "kernelspec": {
   "display_name": "Python 3",
   "language": "python",
   "name": "python3"
  },
  "language_info": {
   "codemirror_mode": {
    "name": "ipython",
    "version": 3
   },
   "file_extension": ".py",
   "mimetype": "text/x-python",
   "name": "python",
   "nbconvert_exporter": "python",
   "pygments_lexer": "ipython3",
   "version": "3.7.3"
  }
 },
 "nbformat": 4,
 "nbformat_minor": 2
}
