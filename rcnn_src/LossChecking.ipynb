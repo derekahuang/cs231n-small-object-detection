{
 "cells": [
  {
   "cell_type": "code",
   "execution_count": null,
   "metadata": {},
   "outputs": [],
   "source": [
    "%load_ext autoreload\n",
    "%autoreload 2"
   ]
  },
  {
   "cell_type": "code",
   "execution_count": 1,
   "metadata": {},
   "outputs": [],
   "source": [
    "from maskrcnn_benchmark.layers import (\n",
    "    SigmoidFocalLoss,\n",
    "    BinarySigmoidFocalLoss,\n",
    "    SigmoidReducedFocalLoss,\n",
    "    BinarySigmoidReducedFocalLoss,\n",
    ")"
   ]
  },
  {
   "cell_type": "code",
   "execution_count": 2,
   "metadata": {},
   "outputs": [
    {
     "name": "stdout",
     "output_type": "stream",
     "text": [
      "1.1.0.dev20190511\n"
     ]
    }
   ],
   "source": [
    "import torch\n",
    "print(torch.__version__)\n",
    "import torch.nn.functional as F"
   ]
  },
  {
   "cell_type": "code",
   "execution_count": 34,
   "metadata": {},
   "outputs": [
    {
     "name": "stdout",
     "output_type": "stream",
     "text": [
      "tensor([ 0.1000, -0.1000])\n",
      "tensor([1., 0.])\n"
     ]
    }
   ],
   "source": [
    "logits = torch.tensor([.1, -.1])\n",
    "print(logits)\n",
    "targets = torch.tensor([1., 0.])\n",
    "print(targets)\n",
    "alpha = 0.25\n",
    "gamma = 2.0\n",
    "cutoff = 0.5"
   ]
  },
  {
   "cell_type": "code",
   "execution_count": 35,
   "metadata": {},
   "outputs": [
    {
     "name": "stdout",
     "output_type": "stream",
     "text": [
      "tensor(0.7345)\n"
     ]
    }
   ],
   "source": [
    "fl_t = BinarySigmoidReducedFocalLoss([gamma], [alpha], [cutoff])\n",
    "with torch.no_grad():\n",
    "    print(fl_t(logits, targets))"
   ]
  },
  {
   "cell_type": "code",
   "execution_count": null,
   "metadata": {},
   "outputs": [],
   "source": []
  },
  {
   "cell_type": "code",
   "execution_count": 39,
   "metadata": {},
   "outputs": [
    {
     "name": "stdout",
     "output_type": "stream",
     "text": [
      "tensor([0.1454, 0.1454])\n"
     ]
    }
   ],
   "source": [
    "bce_loss = F.binary_cross_entropy_with_logits(logits, targets, reduction='none')\n",
    "pt = torch.exp(-bce_loss)\n",
    "rf_loss = (pt < cutoff).float() * alpha * bce_loss \\\n",
    "        + (pt >= cutoff).float() * alpha * ((1-pt)/cutoff)**gamma * bce_loss\n",
    "print(rf_loss)"
   ]
  },
  {
   "cell_type": "code",
   "execution_count": null,
   "metadata": {},
   "outputs": [],
   "source": [
    "import numpy as np\n",
    "import math"
   ]
  },
  {
   "cell_type": "code",
   "execution_count": null,
   "metadata": {},
   "outputs": [],
   "source": [
    "def sigmoid(x):\n",
    "    return 1 / (1 + math.exp(-x))\n",
    "def fl(x, correct = True):\n",
    "    print(x)\n",
    "    sig = sigmoid(x) if correct else 1 - sigmoid(x)\n",
    "    alph = alpha if correct else 1 -alpha\n",
    "    print(sigmoid(x))\n",
    "    print((1-sig)**gamma * np.log(sig))\n",
    "    return - alph * ((1-sig)**gamma) * np.log(sig)"
   ]
  },
  {
   "cell_type": "code",
   "execution_count": null,
   "metadata": {},
   "outputs": [],
   "source": [
    "logit = [.5]\n",
    "print(logit)\n",
    "target = 0\n",
    "fls = [fl(a, (i == target)) for i,a in enumerate(logit)]\n",
    "print(fls)"
   ]
  }
 ],
 "metadata": {
  "kernelspec": {
   "display_name": "Python 3",
   "language": "python",
   "name": "python3"
  },
  "language_info": {
   "codemirror_mode": {
    "name": "ipython",
    "version": 3
   },
   "file_extension": ".py",
   "mimetype": "text/x-python",
   "name": "python",
   "nbconvert_exporter": "python",
   "pygments_lexer": "ipython3",
   "version": "3.7.3"
  }
 },
 "nbformat": 4,
 "nbformat_minor": 2
}
