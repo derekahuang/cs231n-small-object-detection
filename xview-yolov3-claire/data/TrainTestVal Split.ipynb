{
 "cells": [
  {
   "cell_type": "code",
   "execution_count": 1,
   "metadata": {},
   "outputs": [],
   "source": [
    "import os"
   ]
  },
  {
   "cell_type": "markdown",
   "metadata": {},
   "source": [
    "### Train\n",
    "Move images from all `images/` folder to `train_images/` based on `train.txt`."
   ]
  },
  {
   "cell_type": "code",
   "execution_count": 9,
   "metadata": {},
   "outputs": [],
   "source": [
    "path = \"../../../xview_data\"\n",
    "\n",
    "train_filenames = open(\"{}/train.txt\".format(path))\n",
    "for file in train_filenames:\n",
    "    file = file.strip()\n",
    "    if file.endswith('.tif'):\n",
    "        os.rename(\"{}/images/{}\".format(path, file), \"{}/train_images/{}\".format(path, file))"
   ]
  },
  {
   "cell_type": "markdown",
   "metadata": {},
   "source": [
    "### Val"
   ]
  },
  {
   "cell_type": "code",
   "execution_count": 10,
   "metadata": {},
   "outputs": [],
   "source": [
    "val_filenames = open(\"{}/val.txt\".format(path))\n",
    "for file in val_filenames:\n",
    "    file = file.strip()\n",
    "    if file.endswith('.tif'):\n",
    "        os.rename(\"{}/images/{}\".format(path, file), \"{}/val_images/{}\".format(path, file))"
   ]
  },
  {
   "cell_type": "markdown",
   "metadata": {},
   "source": [
    "### Test"
   ]
  },
  {
   "cell_type": "code",
   "execution_count": 11,
   "metadata": {},
   "outputs": [],
   "source": [
    "test_filenames = open(\"{}/test.txt\".format(path))\n",
    "for file in test_filenames:\n",
    "    file = file.strip()\n",
    "    if file.endswith('.tif'):\n",
    "        os.rename(\"{}/images/{}\".format(path, file), \"{}/test_images/{}\".format(path, file))"
   ]
  },
  {
   "cell_type": "code",
   "execution_count": null,
   "metadata": {},
   "outputs": [],
   "source": []
  }
 ],
 "metadata": {
  "kernelspec": {
   "display_name": "Python 3",
   "language": "python",
   "name": "python3"
  },
  "language_info": {
   "codemirror_mode": {
    "name": "ipython",
    "version": 3
   },
   "file_extension": ".py",
   "mimetype": "text/x-python",
   "name": "python",
   "nbconvert_exporter": "python",
   "pygments_lexer": "ipython3",
   "version": "3.7.1"
  }
 },
 "nbformat": 4,
 "nbformat_minor": 2
}
