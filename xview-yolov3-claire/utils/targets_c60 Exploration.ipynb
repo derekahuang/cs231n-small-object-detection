{
 "cells": [
  {
   "cell_type": "code",
   "execution_count": 23,
   "metadata": {},
   "outputs": [
    {
     "name": "stdout",
     "output_type": "stream",
     "text": [
      "dict_keys(['__header__', '__version__', '__globals__', 'class_cov', 'class_mu', 'class_sigma', 'id', 'image_numbers', 'image_weights', 'targets', 'wh'])\n"
     ]
    }
   ],
   "source": [
    "from scipy import io\n",
    "import numpy as np\n",
    "import matplotlib.pyplot as plt\n",
    "%matplotlib inline\n",
    "\n",
    "mat = scipy.io.loadmat('targets_c60.mat')\n",
    "print(mat.keys())"
   ]
  },
  {
   "cell_type": "markdown",
   "metadata": {},
   "source": [
    "### Image weights\n",
    "On [line 94](https://github.com/ultralytics/xview-yolov3/blob/master/utils/datasets.py#L94) of `datasets.py`, we appear to sample images unequally. In particular, we use image weights, which are calculated on [line 50](https://github.com/ultralytics/xview-yolov3/blob/7cb82fe718c9dc4b7b7570433d3ec9060c709361/utils/analysis.m#L50) of `analysis.m` and then stored in the `targets_c60.mat` file, which is then used everywhere else.\n",
    "\n",
    "Hypothesis: an image's weight is the sum of the class weights of all the bounding boxes in its chips. Unclear how the class weights are calculated though."
   ]
  },
  {
   "cell_type": "code",
   "execution_count": 21,
   "metadata": {},
   "outputs": [
    {
     "name": "stdout",
     "output_type": "stream",
     "text": [
      "(847,)\n"
     ]
    }
   ],
   "source": [
    "img_weights = mat['image_weights'].squeeze()"
   ]
  },
  {
   "cell_type": "code",
   "execution_count": 24,
   "metadata": {},
   "outputs": [
    {
     "data": {
      "image/png": "[encoded data removed]",
      "text/plain": [
       "<Figure size 864x576 with 1 Axes>"
      ]
     },
     "metadata": {
      "needs_background": "light"
     },
     "output_type": "display_data"
    }
   ],
   "source": [
    "plt.figure(figsize=(12,8))\n",
    "plt.hist(img_weights, 40)\n",
    "plt.xlabel('Image weights')\n",
    "plt.ylabel('Count')\n",
    "# plt.xticks(np.linspace(0, 1000, num=21))\n",
    "plt.show()"
   ]
  },
  {
   "cell_type": "code",
   "execution_count": null,
   "metadata": {},
   "outputs": [],
   "source": []
  }
 ],
 "metadata": {
  "kernelspec": {
   "display_name": "Python 3",
   "language": "python",
   "name": "python3"
  },
  "language_info": {
   "codemirror_mode": {
    "name": "ipython",
    "version": 3
   },
   "file_extension": ".py",
   "mimetype": "text/x-python",
   "name": "python",
   "nbconvert_exporter": "python",
   "pygments_lexer": "ipython3",
   "version": "3.7.1"
  }
 },
 "nbformat": 4,
 "nbformat_minor": 2
}
