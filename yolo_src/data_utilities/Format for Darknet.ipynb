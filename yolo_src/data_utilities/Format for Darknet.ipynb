{
 "cells": [
  {
   "cell_type": "code",
   "execution_count": 2,
   "metadata": {},
   "outputs": [],
   "source": [
    "import aug_util as aug\n",
    "import wv_util as wv\n",
    "import matplotlib.pyplot as plt\n",
    "import numpy as np\n",
    "import csv\n",
    "from PIL import Image\n",
    "import os\n",
    "%matplotlib inline"
   ]
  },
  {
   "cell_type": "code",
   "execution_count": 3,
   "metadata": {},
   "outputs": [],
   "source": [
    "path_to_data = '../xview_data_small'"
   ]
  },
  {
   "cell_type": "markdown",
   "metadata": {},
   "source": [
    "### Get all bounding boxes"
   ]
  },
  {
   "cell_type": "code",
   "execution_count": 10,
   "metadata": {},
   "outputs": [
    {
     "name": "stderr",
     "output_type": "stream",
     "text": [
      "100%|██████████| 601937/601937 [00:02<00:00, 203088.46it/s]\n"
     ]
    }
   ],
   "source": [
    "# Get all coords, chips, and classes\n",
    "coords, chips, classes = wv.get_labels('{}xView_train.geojson'.format(path_to_data))"
   ]
  },
  {
   "cell_type": "code",
   "execution_count": 11,
   "metadata": {},
   "outputs": [
    {
     "name": "stdout",
     "output_type": "stream",
     "text": [
      "Shapes\n",
      "coords: (601937, 4)\n",
      "chips: (601937,)\n",
      "classes: (601937,)\n",
      "\n",
      "An example\n",
      "coords[1]: [2720. 2233. 2760. 2288.]\n",
      "chips[1]: 2355.tif\n",
      "classes[1]: 73.0\n",
      "\n",
      "Num unique chips: 847\n",
      "Num unique classes: 62\n"
     ]
    }
   ],
   "source": [
    "# Sanity check stats\n",
    "print('Shapes')\n",
    "print('coords: {}'.format(coords.shape))\n",
    "print('chips: {}'.format(chips.shape))\n",
    "print('classes: {}'.format(classes.shape))\n",
    "\n",
    "print('\\nAn example')\n",
    "print('coords[1]: {}'.format(coords[1]))\n",
    "print('chips[1]: {}'.format(chips[1]))\n",
    "print('classes[1]: {}'.format(classes[1]))\n",
    "\n",
    "print('\\nNum unique chips: {}'.format(len(set(chips))))\n",
    "print('Num unique classes: {}'.format(len(set(classes))))"
   ]
  },
  {
   "cell_type": "markdown",
   "metadata": {},
   "source": [
    "### Create names (classes) file\n",
    "Step 3 of \"Train Custom Data\" [wiki](https://github.com/ultralytics/yolov3/wiki/Example:-Transfer-Learning). Remap class numbers to be consecutive and to start from 0, then write all class labels to `*.names` file."
   ]
  },
  {
   "cell_type": "code",
   "execution_count": 22,
   "metadata": {},
   "outputs": [],
   "source": [
    "old_to_new_labels = {}\n",
    "old_labels = {}\n",
    "new_labels = {}\n",
    "new_num = 0\n",
    "\n",
    "# Remap all explicitly named classes\n",
    "with open('xview_class_labels.txt') as f:\n",
    "    for row in csv.reader(f):\n",
    "        arr = row[0].split(\":\")\n",
    "        old_num = int(arr[0])\n",
    "        label_str = arr[1]\n",
    "        \n",
    "        old_to_new_labels[old_num] = new_num \n",
    "        old_labels[old_num] = label_str\n",
    "        new_labels[new_num] = label_str\n",
    "        \n",
    "        new_num += 1\n",
    "\n",
    "# Remap unnamed classes\n",
    "for c in set(classes):\n",
    "    if c not in old_labels:\n",
    "        old_to_new_labels[int(c)] = new_num\n",
    "        new_labels[new_num] = \"Unknown label {}\".format(new_num)\n",
    "        new_num += 1"
   ]
  },
  {
   "cell_type": "code",
   "execution_count": 23,
   "metadata": {},
   "outputs": [
    {
     "name": "stdout",
     "output_type": "stream",
     "text": [
      "{11: 0, 12: 1, 13: 2, 15: 3, 17: 4, 18: 5, 19: 6, 20: 7, 21: 8, 23: 9, 24: 10, 25: 11, 26: 12, 27: 13, 28: 14, 29: 15, 32: 16, 33: 17, 34: 18, 35: 19, 36: 20, 37: 21, 38: 22, 40: 23, 41: 24, 42: 25, 44: 26, 45: 27, 47: 28, 49: 29, 50: 30, 51: 31, 52: 32, 53: 33, 54: 34, 55: 35, 56: 36, 57: 37, 59: 38, 60: 39, 61: 40, 62: 41, 63: 42, 64: 43, 65: 44, 66: 45, 71: 46, 72: 47, 73: 48, 74: 49, 76: 50, 77: 51, 79: 52, 83: 53, 84: 54, 86: 55, 89: 56, 91: 57, 93: 58, 94: 59, 75: 60, 82: 61}\n",
      "{0: 'Fixed-wing Aircraft', 1: 'Small Aircraft', 2: 'Cargo Plane', 3: 'Helicopter', 4: 'Passenger Vehicle', 5: 'Small Car', 6: 'Bus', 7: 'Pickup Truck', 8: 'Utility Truck', 9: 'Truck', 10: 'Cargo Truck', 11: 'Truck w/Box', 12: 'Truck Tractor', 13: 'Trailer', 14: 'Truck w/Flatbed', 15: 'Truck w/Liquid', 16: 'Crane Truck', 17: 'Railway Vehicle', 18: 'Passenger Car', 19: 'Cargo Car', 20: 'Flat Car', 21: 'Tank car', 22: 'Locomotive', 23: 'Maritime Vessel', 24: 'Motorboat', 25: 'Sailboat', 26: 'Tugboat', 27: 'Barge', 28: 'Fishing Vessel', 29: 'Ferry', 30: 'Yacht', 31: 'Container Ship', 32: 'Oil Tanker', 33: 'Engineering Vehicle', 34: 'Tower crane', 35: 'Container Crane', 36: 'Reach Stacker', 37: 'Straddle Carrier', 38: 'Mobile Crane', 39: 'Dump Truck', 40: 'Haul Truck', 41: 'Scraper/Tractor', 42: 'Front loader/Bulldozer', 43: 'Excavator', 44: 'Cement Mixer', 45: 'Ground Grader', 46: 'Hut/Tent', 47: 'Shed', 48: 'Building', 49: 'Aircraft Hangar', 50: 'Damaged Building', 51: 'Facility', 52: 'Construction Site', 53: 'Vehicle Lot', 54: 'Helipad', 55: 'Storage Tank', 56: 'Shipping container lot', 57: 'Shipping Container', 58: 'Pylon', 59: 'Tower'}\n"
     ]
    }
   ],
   "source": [
    "print(old_to_new_labels)\n",
    "print(labels)"
   ]
  },
  {
   "cell_type": "code",
   "execution_count": 32,
   "metadata": {},
   "outputs": [],
   "source": [
    "# Create new *.names file listing all of the names for the classes in our dataset\n",
    "label_file = open(\"{}/yolo_data/xview.names\".format(path_to_data), \"a\")\n",
    "for i in new_labels:\n",
    "    label_file.write('{}\\n'.format(new_labels[i]))\n",
    "label_file.close()"
   ]
  },
  {
   "cell_type": "code",
   "execution_count": 24,
   "metadata": {},
   "outputs": [],
   "source": [
    "# Remap classes array\n",
    "remapped_classes = list(map(lambda c: old_to_new_labels[int(c)], classes))\n",
    "remapped_classes = np.array(remapped_classes)"
   ]
  },
  {
   "cell_type": "code",
   "execution_count": 25,
   "metadata": {},
   "outputs": [
    {
     "name": "stdout",
     "output_type": "stream",
     "text": [
      "(601937,)\n"
     ]
    }
   ],
   "source": [
    "print(remapped_classes.shape)"
   ]
  },
  {
   "cell_type": "markdown",
   "metadata": {},
   "source": [
    "### Chip each image\n",
    "Step 1 of \"Train Custom Data\" [wiki](https://github.com/ultralytics/yolov3/wiki/Example:-Transfer-Learning). Output all chip tifs and associated label txt files. Each image's label file must be locatable by simply replacing `/images/*.jpg` with `/labels/*.txt` in its pathname. Additional requirements:\n",
    "* One file per image (if no objects in image, no label file is required).\n",
    "* One row per object.\n",
    "* Each row is `class x_center y_center width height` format.\n",
    "* Box coordinates must be in normalized xywh format (from 0 - 1).\n",
    "* Classes are zero-indexed (start from 0)."
   ]
  },
  {
   "cell_type": "code",
   "execution_count": 66,
   "metadata": {
    "scrolled": true
   },
   "outputs": [
    {
     "name": "stdout",
     "output_type": "stream",
     "text": [
      "Processing 905.tif\n",
      "\tNum chips: 36\n",
      "Processing 99.tif\n",
      "\tNum chips: 30\n",
      "Processing 819.tif\n",
      "\tNum chips: 36\n",
      "Processing 893.tif\n",
      "\tNum chips: 42\n",
      "Processing 847.tif\n",
      "\tNum chips: 36\n",
      "Processing 888.tif\n",
      "\tNum chips: 36\n",
      "Processing 903.tif\n",
      "\tNum chips: 36\n",
      "Processing 53.tif\n",
      "\tNum chips: 30\n",
      "Processing 8.tif\n",
      "\tNum chips: 36\n",
      "Processing 880.tif\n",
      "\tNum chips: 36\n"
     ]
    }
   ],
   "source": [
    "images = ['53.tif']\n",
    "chip_size = (500, 500)\n",
    "path_to_save = '{}/yolo_data'.format(path_to_data)\n",
    "\n",
    "# For each image in directory\n",
    "for img_name in os.listdir('{}/train_images'.format(path_to_data)):\n",
    "    if not img_name.endswith(\".tif\"):\n",
    "        continue\n",
    "    \n",
    "    # Get full image\n",
    "    print('Processing {}'.format(img_name))\n",
    "    full_path = '{}/train_images/{}'.format(path_to_data, img_name)\n",
    "    arr = wv.get_image(full_path)\n",
    "    \n",
    "    # Get chip arrays, bounding boxes, and classes\n",
    "    c_img, c_box, c_cls = wv.chip_image(img=arr, coords=coords[chips==img_name], classes=classes[chips==img_name], shape=chip_size)\n",
    "    num_chips = c_img.shape[0]\n",
    "    print(\"\\tNum chips: {}\".format(num_chips))\n",
    "        \n",
    "    for i in range(num_chips):\n",
    "        filename = '{}_{}'.format(img_name.split('.')[0], i)\n",
    "        \n",
    "        # Write chip JPG\n",
    "        chip_arr = c_img[i]\n",
    "        chip_img = Image.fromarray(chip_arr)\n",
    "        chip_img.save(\"{}/images/{}.jpeg\".format(path_to_save, filename))\n",
    "        \n",
    "        # Write chip label txt\n",
    "        chip_bboxes = c_box[i]\n",
    "        chip_classes = c_cls[i]\n",
    "        num_bboxes = len(chip_classes)\n",
    "#         print('\\t\\tNum bounding boxes: {}'.format(num_bboxes))\n",
    "        \n",
    "        labels_str = \"\"\n",
    "        for j in range(num_bboxes):\n",
    "            # bounding box format: xmin, ymin, xmax, ymax\n",
    "            xmin, ymin, xmax, ymax = chip_bboxes[j]\n",
    "            bbox_class = int(chip_classes[j])\n",
    "            \n",
    "            # row format: class x_center y_center width height\n",
    "            if bbox_class == 0:\n",
    "                labels_str += \"0 0 0 0 0\\n\"\n",
    "            else:\n",
    "                labels_str += '{} {} {} {} {}\\n'.format(old_to_new_labels[bbox_class],\n",
    "                                                       (xmax + xmin)/2 / chip_size[1], \n",
    "                                                       (ymax + ymin)/2 / chip_size[0],\n",
    "                                                       (xmax - xmin) / chip_size[1],\n",
    "                                                       (ymax - ymin) / chip_size[0])\n",
    "        \n",
    "        label_file = open(\"{}/labels/{}.txt\".format(path_to_save, filename), \"a\")\n",
    "        label_file.write(labels_str)\n",
    "        label_file.close()\n",
    "        \n",
    "        chip_num += 1"
   ]
  },
  {
   "cell_type": "markdown",
   "metadata": {},
   "source": [
    "### Create test and train files\n",
    "Step 2 of \"Train Custom Data\" [wiki](https://github.com/ultralytics/yolov3/wiki/Example:-Transfer-Learning). Create train and test `*.txt` files. Each row contains a path to an image, and remember one label must also exist in a corresponding /labels folder for each image that has targets."
   ]
  },
  {
   "cell_type": "code",
   "execution_count": 8,
   "metadata": {},
   "outputs": [],
   "source": [
    "path_to_save = '{}/yolo_data'.format(path_to_data)\n",
    "\n",
    "# As a test, use the same random subset of data for train and test\n",
    "num_images = 20\n",
    "\n",
    "file = open(\"{}/xview_small_imgs.txt\".format(path_to_save), \"a\")\n",
    "\n",
    "all_imgs = os.listdir('{}/images'.format(path_to_save))\n",
    "for img_filename in np.random.choice(all_imgs, num_images):\n",
    "    file.write('../xview_data_small/yolo_data/images/{}\\n'.format(img_filename))\n",
    "\n",
    "file.close()"
   ]
  },
  {
   "cell_type": "code",
   "execution_count": null,
   "metadata": {},
   "outputs": [],
   "source": []
  }
 ],
 "metadata": {
  "kernelspec": {
   "display_name": "Python 3",
   "language": "python",
   "name": "python3"
  },
  "language_info": {
   "codemirror_mode": {
    "name": "ipython",
    "version": 3
   },
   "file_extension": ".py",
   "mimetype": "text/x-python",
   "name": "python",
   "nbconvert_exporter": "python",
   "pygments_lexer": "ipython3",
   "version": "3.7.1"
  }
 },
 "nbformat": 4,
 "nbformat_minor": 2
}
